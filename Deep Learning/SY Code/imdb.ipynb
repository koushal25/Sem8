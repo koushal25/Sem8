{
 "cells": [
  {
   "cell_type": "markdown",
   "metadata": {},
   "source": [
    "Classification using Deep neural network:\n",
    "Binary classification using Deep Neural Networks Example: Classify movie reviews into \n",
    "positive reviews and negative reviews, just based on the text content of the reviews.\n",
    "Use IMDB dataset"
   ]
  },
  {
   "cell_type": "code",
   "execution_count": 2,
   "metadata": {},
   "outputs": [
    {
     "name": "stderr",
     "output_type": "stream",
     "text": [
      "2024-04-20 13:47:39.514645: I tensorflow/tsl/cuda/cudart_stub.cc:28] Could not find cuda drivers on your machine, GPU will not be used.\n",
      "2024-04-20 13:47:39.553304: I tensorflow/tsl/cuda/cudart_stub.cc:28] Could not find cuda drivers on your machine, GPU will not be used.\n",
      "2024-04-20 13:47:39.554118: I tensorflow/core/platform/cpu_feature_guard.cc:182] This TensorFlow binary is optimized to use available CPU instructions in performance-critical operations.\n",
      "To enable the following instructions: AVX2 FMA, in other operations, rebuild TensorFlow with the appropriate compiler flags.\n",
      "2024-04-20 13:47:40.154451: W tensorflow/compiler/tf2tensorrt/utils/py_utils.cc:38] TF-TRT Warning: Could not find TensorRT\n"
     ]
    }
   ],
   "source": [
    "import numpy as np\n",
    "from keras.datasets import imdb\n",
    "from keras.models import Sequential\n",
    "from keras.layers import Dense, Embedding, Flatten\n",
    "from keras.utils import pad_sequences\n",
    "# from keras.preprocessing.sequence import pad_sequences"
   ]
  },
  {
   "cell_type": "code",
   "execution_count": 3,
   "metadata": {},
   "outputs": [
    {
     "name": "stdout",
     "output_type": "stream",
     "text": [
      "Downloading data from https://storage.googleapis.com/tensorflow/tf-keras-datasets/imdb.npz\n",
      "17464789/17464789 [==============================] - 3s 0us/step\n"
     ]
    }
   ],
   "source": [
    "# Load the IMDB dataset with the top 10,000 most frequently occurring words\n",
    "max_words = 10000\n",
    "(X_train, y_train), (X_test, y_test) = imdb.load_data(num_words=max_words)      # sequence of x_train, y_train ,.. is different"
   ]
  },
  {
   "cell_type": "code",
   "execution_count": 4,
   "metadata": {},
   "outputs": [],
   "source": [
    "# Preprocess the data: pad sequences to have the same length\n",
    "maxlen = 200\n",
    "X_train = pad_sequences(X_train, maxlen=maxlen)\n",
    "X_test = pad_sequences(X_test, maxlen=maxlen)"
   ]
  },
  {
   "cell_type": "code",
   "execution_count": 5,
   "metadata": {},
   "outputs": [],
   "source": [
    "# Define the model\n",
    "model = Sequential()\n",
    "model.add(Embedding(input_dim=max_words, output_dim=32,input_length=maxlen))\n",
    "model.add(Flatten())\n",
    "model.add(Dense(1, activation='sigmoid'))"
   ]
  },
  {
   "cell_type": "code",
   "execution_count": 6,
   "metadata": {},
   "outputs": [],
   "source": [
    "# Compile the model\n",
    "model.compile(optimizer='adam', loss='binary_crossentropy', metrics=['accuracy'])"
   ]
  },
  {
   "cell_type": "code",
   "execution_count": 7,
   "metadata": {},
   "outputs": [
    {
     "name": "stdout",
     "output_type": "stream",
     "text": [
      "Epoch 1/5\n",
      "625/625 [==============================] - 3s 4ms/step - loss: 0.4790 - accuracy: 0.7663 - val_loss: 0.3069 - val_accuracy: 0.8742\n",
      "Epoch 2/5\n",
      "625/625 [==============================] - 3s 4ms/step - loss: 0.2146 - accuracy: 0.9193 - val_loss: 0.2813 - val_accuracy: 0.8776\n",
      "Epoch 3/5\n",
      "625/625 [==============================] - 3s 4ms/step - loss: 0.1169 - accuracy: 0.9669 - val_loss: 0.2903 - val_accuracy: 0.8810\n",
      "Epoch 4/5\n",
      "625/625 [==============================] - 3s 4ms/step - loss: 0.0542 - accuracy: 0.9912 - val_loss: 0.3154 - val_accuracy: 0.8764\n",
      "Epoch 5/5\n",
      "625/625 [==============================] - 3s 4ms/step - loss: 0.0242 - accuracy: 0.9981 - val_loss: 0.3388 - val_accuracy: 0.8814\n"
     ]
    },
    {
     "data": {
      "text/plain": [
       "<keras.src.callbacks.History at 0x7fec7853ce50>"
      ]
     },
     "execution_count": 7,
     "metadata": {},
     "output_type": "execute_result"
    }
   ],
   "source": [
    "# Train the model\n",
    "model.fit(X_train, y_train, epochs=5, validation_split=0.2)"
   ]
  },
  {
   "cell_type": "code",
   "execution_count": 8,
   "metadata": {},
   "outputs": [
    {
     "name": "stdout",
     "output_type": "stream",
     "text": [
      "782/782 [==============================] - 1s 894us/step - loss: 0.3548 - accuracy: 0.8717\n",
      "Test Loss: 0.35481590032577515\n",
      "Test Accuracy: 0.871720016002655\n"
     ]
    }
   ],
   "source": [
    "# Evaluate the model on the test set\n",
    "loss, accuracy = model.evaluate(X_test, y_test)\n",
    "print(\"Test Loss:\", loss)\n",
    "print(\"Test Accuracy:\", accuracy)"
   ]
  },
  {
   "cell_type": "code",
   "execution_count": 9,
   "metadata": {},
   "outputs": [
    {
     "name": "stdout",
     "output_type": "stream",
     "text": [
      "782/782 [==============================] - 1s 720us/step\n"
     ]
    }
   ],
   "source": [
    "# Predict labels for test data\n",
    "predictions = model.predict(X_test)\n",
    "\n",
    "# Round predictions to convert probabilities to binary labels (0 or 1)\n",
    "binary_predictions = np.round(predictions)"
   ]
  },
  {
   "cell_type": "code",
   "execution_count": 10,
   "metadata": {},
   "outputs": [
    {
     "name": "stdout",
     "output_type": "stream",
     "text": [
      "Actual\t\t\tPredicted\n",
      "\n",
      "Negative\t\tNegative\n",
      "Positive\t\tPositive\n",
      "Positive\t\tPositive\n",
      "Negative\t\tNegative\n",
      "Positive\t\tPositive\n",
      "Positive\t\tPositive\n",
      "Positive\t\tPositive\n",
      "Negative\t\tNegative\n",
      "Negative\t\tPositive\n",
      "Positive\t\tPositive\n",
      "Positive\t\tPositive\n",
      "Negative\t\tNegative\n",
      "Negative\t\tNegative\n",
      "Negative\t\tNegative\n",
      "Positive\t\tPositive\n",
      "Negative\t\tNegative\n",
      "Positive\t\tPositive\n",
      "Negative\t\tPositive\n",
      "Negative\t\tNegative\n",
      "Negative\t\tNegative\n",
      "Positive\t\tPositive\n",
      "Positive\t\tPositive\n",
      "Positive\t\tPositive\n",
      "Positive\t\tPositive\n",
      "Positive\t\tPositive\n",
      "Positive\t\tPositive\n",
      "Negative\t\tNegative\n",
      "Positive\t\tPositive\n",
      "Positive\t\tPositive\n",
      "Negative\t\tNegative\n"
     ]
    }
   ],
   "source": [
    "print(\"Actual\\t\\t\\tPredicted\")\n",
    "print()\n",
    "\n",
    "for i in range(30):\n",
    "    actual_label = \"Positive\" if y_test[i] == 1 else \"Negative\"\n",
    "    predicted_label = \"Positive\" if binary_predictions[i] == 1 else \"Negative\"\n",
    "    print(f\"{actual_label}\\t\\t{predicted_label}\")"
   ]
  },
  {
   "cell_type": "code",
   "execution_count": null,
   "metadata": {},
   "outputs": [],
   "source": [
    "review_check = int(input(\"Enter the Label of the review: \"))\n",
    "# sentiment_printed = False\n",
    "if(binary_predictions[review_check] == 0):\n",
    "    print(\"The Review of the movie is Negative \")\n",
    "else:\n",
    "    print(\"The review of the movie is Positive\")"
   ]
  }
 ],
 "metadata": {
  "kernelspec": {
   "display_name": "Python 3 (ipykernel)",
   "language": "python",
   "name": "python3"
  },
  "language_info": {
   "codemirror_mode": {
    "name": "ipython",
    "version": 3
   },
   "file_extension": ".py",
   "mimetype": "text/x-python",
   "name": "python",
   "nbconvert_exporter": "python",
   "pygments_lexer": "ipython3",
   "version": "3.9.13"
  }
 },
 "nbformat": 4,
 "nbformat_minor": 4
}
