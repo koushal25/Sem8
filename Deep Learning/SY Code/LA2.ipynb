{
 "cells": [
  {
   "cell_type": "code",
   "execution_count": 22,
   "id": "5543071b",
   "metadata": {},
   "outputs": [],
   "source": [
    "import numpy as np\n",
    "import pandas as pd\n",
    "\n",
    "from keras.datasets import imdb\n",
    "from keras.layers import Dense,Embedding,Flatten\n",
    "from keras.utils import pad_sequences\n",
    "from keras.models import Sequential\n",
    "# from keras.preprocessing.sequence import pad_sequences"
   ]
  },
  {
   "cell_type": "code",
   "execution_count": 23,
   "id": "0c668574",
   "metadata": {},
   "outputs": [],
   "source": [
    "max_words=10000\n",
    "(X_train,y_train),(X_test,y_test)=imdb.load_data(num_words=max_words)"
   ]
  },
  {
   "cell_type": "code",
   "execution_count": 24,
   "id": "b2a6e14c",
   "metadata": {},
   "outputs": [],
   "source": [
    "X_train=pad_sequences(X_train,maxlen=200)\n",
    "X_test=pad_sequences(X_test,maxlen=200)"
   ]
  },
  {
   "cell_type": "code",
   "execution_count": 25,
   "id": "b8d8338f",
   "metadata": {},
   "outputs": [],
   "source": [
    "model=Sequential()\n",
    "model.add(Embedding(input_dim=max_words,output_dim=32,input_length=maxlen))\n",
    "model.add(Flatten())\n",
    "model.add(Dense(1,activation='sigmoid'))"
   ]
  },
  {
   "cell_type": "code",
   "execution_count": 26,
   "id": "c63351ce",
   "metadata": {},
   "outputs": [],
   "source": [
    "model.compile(optimizer=\"adam\",loss=\"binary_crossentropy\",metrics=['accuracy'])"
   ]
  },
  {
   "cell_type": "code",
   "execution_count": 29,
   "id": "faba63d4",
   "metadata": {},
   "outputs": [
    {
     "name": "stdout",
     "output_type": "stream",
     "text": [
      "Epoch 1/5\n",
      "625/625 [==============================] - 4s 6ms/step - loss: 0.0111 - accuracy: 0.9998 - val_loss: 0.3663 - val_accuracy: 0.8706\n",
      "Epoch 2/5\n",
      "625/625 [==============================] - 4s 6ms/step - loss: 0.0062 - accuracy: 0.9998 - val_loss: 0.3912 - val_accuracy: 0.8696\n",
      "Epoch 3/5\n",
      "625/625 [==============================] - 4s 6ms/step - loss: 0.0036 - accuracy: 0.9999 - val_loss: 0.4103 - val_accuracy: 0.8694\n",
      "Epoch 4/5\n",
      "625/625 [==============================] - 4s 6ms/step - loss: 0.0022 - accuracy: 1.0000 - val_loss: 0.4339 - val_accuracy: 0.8708\n",
      "Epoch 5/5\n",
      "625/625 [==============================] - 4s 6ms/step - loss: 0.0014 - accuracy: 1.0000 - val_loss: 0.4521 - val_accuracy: 0.8688\n"
     ]
    }
   ],
   "source": [
    "history=model.fit(X_train,y_train,epochs=5,validation_split=0.2)"
   ]
  },
  {
   "cell_type": "code",
   "execution_count": 32,
   "id": "b390535b",
   "metadata": {},
   "outputs": [
    {
     "name": "stdout",
     "output_type": "stream",
     "text": [
      "782/782 [==============================] - 2s 2ms/step - loss: 0.4645 - accuracy: 0.8689\n",
      "0.46450069546699524\n",
      "0.8688799738883972\n"
     ]
    }
   ],
   "source": [
    "loss,accuracy=model.evaluate(X_test,y_test)\n",
    "print(loss)\n",
    "print(accuracy)"
   ]
  },
  {
   "cell_type": "code",
   "execution_count": 35,
   "id": "7c1c889f",
   "metadata": {},
   "outputs": [
    {
     "name": "stdout",
     "output_type": "stream",
     "text": [
      "782/782 [==============================] - 2s 2ms/step\n"
     ]
    }
   ],
   "source": [
    "# Predict labels for test data\n",
    "predictions = model.predict(X_test)\n",
    "\n",
    "# Round predictions to convert probabilities to binary labels (0 or 1)\n",
    "binary_predictions = np.round(predictions)"
   ]
  },
  {
   "cell_type": "code",
   "execution_count": 37,
   "id": "3e186d8e",
   "metadata": {},
   "outputs": [
    {
     "name": "stdout",
     "output_type": "stream",
     "text": [
      "Enter the Label of the review: 18\n",
      "The Review of the movie is Negative \n"
     ]
    }
   ],
   "source": [
    "review_check = int(input(\"Enter the Label of the review: \"))\n",
    "# sentiment_printed = False\n",
    "if(binary_predictions[review_check] == 0):\n",
    "    print(\"The Review of the movie is Negative \")\n",
    "else:\n",
    "    print(\"The review of the movie is Positive\")"
   ]
  },
  {
   "cell_type": "code",
   "execution_count": null,
   "id": "29b61ab1",
   "metadata": {},
   "outputs": [],
   "source": []
  }
 ],
 "metadata": {
  "kernelspec": {
   "display_name": "Python 3 (ipykernel)",
   "language": "python",
   "name": "python3"
  },
  "language_info": {
   "codemirror_mode": {
    "name": "ipython",
    "version": 3
   },
   "file_extension": ".py",
   "mimetype": "text/x-python",
   "name": "python",
   "nbconvert_exporter": "python",
   "pygments_lexer": "ipython3",
   "version": "3.9.13"
  }
 },
 "nbformat": 4,
 "nbformat_minor": 5
}
